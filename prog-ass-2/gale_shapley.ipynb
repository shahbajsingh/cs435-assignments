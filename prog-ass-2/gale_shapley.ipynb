{
 "cells": [
  {
   "cell_type": "markdown",
   "metadata": {},
   "source": [
    "## Implementation of the Gale-Shapley Algorithm in Python\n",
    "\n",
    "_Generates random preferences for men and women and confirms that the Gale-Shapley algorithm always returns a stable matching, providing a\n",
    "clear explanation and validation of stability in the generated matchings._"
   ]
  },
  {
   "cell_type": "code",
   "execution_count": 26,
   "metadata": {},
   "outputs": [],
   "source": [
    "women = ['Amanda', 'Barbara', 'Charlotte', 'Diana']\n",
    "men = ['Adam', 'Bob', 'Charlie', 'David']\n",
    "\n",
    "pref_dict_w = {\n",
    "    'Amanda': ['Adam', 'Bob', 'Charlie', 'David'],\n",
    "    'Barbara': ['Bob', 'David', 'Adam', 'Charlie'],\n",
    "    'Charlotte': ['Charlie', 'Bob', 'Adam', 'David'],\n",
    "    'Diana': ['David', 'Adam', 'Bob', 'Charlie'],\n",
    "}\n",
    "\n",
    "pref_dict_m = {\n",
    "    'Adam': ['Amanda', 'Barbara', 'Charlotte', 'Diana'],\n",
    "    'Bob': ['Amanda', 'Barbara', 'Charlotte', 'Diana'],\n",
    "    'Charlie': ['Amanda', 'Barbara', 'Charlotte', 'Diana'],\n",
    "    'David': ['Amanda', 'Barbara', 'Charlotte', 'Diana'],\n",
    "}\n"
   ]
  },
  {
   "cell_type": "code",
   "execution_count": 27,
   "metadata": {},
   "outputs": [],
   "source": [
    "def pref_to_rank(pref_list):\n",
    "    return {\n",
    "        a: {b: i for i, b in enumerate(a_pref)} for a, a_pref in pref_list.items()\n",
    "    }\n",
    "\n",
    "pref_rank_w = pref_to_rank(pref_dict_w)\n",
    "pref_rank_m = pref_to_rank(pref_dict_m)"
   ]
  },
  {
   "cell_type": "code",
   "execution_count": 28,
   "metadata": {},
   "outputs": [
    {
     "data": {
      "text/plain": [
       "({'Amanda': ['Adam', 'Bob', 'Charlie', 'David'],\n",
       "  'Barbara': ['Bob', 'David', 'Adam', 'Charlie'],\n",
       "  'Charlotte': ['Charlie', 'Bob', 'Adam', 'David'],\n",
       "  'Diana': ['David', 'Adam', 'Bob', 'Charlie']},\n",
       " {'Adam': ['Amanda', 'Barbara', 'Charlotte', 'Diana'],\n",
       "  'Bob': ['Amanda', 'Barbara', 'Charlotte', 'Diana'],\n",
       "  'Charlie': ['Amanda', 'Barbara', 'Charlotte', 'Diana'],\n",
       "  'David': ['Amanda', 'Barbara', 'Charlotte', 'Diana']})"
      ]
     },
     "execution_count": 28,
     "metadata": {},
     "output_type": "execute_result"
    }
   ],
   "source": [
    "pref_dict_w, pref_dict_m\n"
   ]
  },
  {
   "cell_type": "code",
   "execution_count": 29,
   "metadata": {},
   "outputs": [
    {
     "data": {
      "text/plain": [
       "({'Amanda': {'Adam': 0, 'Bob': 1, 'Charlie': 2, 'David': 3},\n",
       "  'Barbara': {'Bob': 0, 'David': 1, 'Adam': 2, 'Charlie': 3},\n",
       "  'Charlotte': {'Charlie': 0, 'Bob': 1, 'Adam': 2, 'David': 3},\n",
       "  'Diana': {'David': 0, 'Adam': 1, 'Bob': 2, 'Charlie': 3}},\n",
       " {'Adam': {'Amanda': 0, 'Barbara': 1, 'Charlotte': 2, 'Diana': 3},\n",
       "  'Bob': {'Amanda': 0, 'Barbara': 1, 'Charlotte': 2, 'Diana': 3},\n",
       "  'Charlie': {'Amanda': 0, 'Barbara': 1, 'Charlotte': 2, 'Diana': 3},\n",
       "  'David': {'Amanda': 0, 'Barbara': 1, 'Charlotte': 2, 'Diana': 3}})"
      ]
     },
     "execution_count": 29,
     "metadata": {},
     "output_type": "execute_result"
    }
   ],
   "source": [
    "pref_rank_w, pref_rank_m"
   ]
  },
  {
   "cell_type": "code",
   "execution_count": 30,
   "metadata": {},
   "outputs": [
    {
     "data": {
      "text/plain": [
       "pair(woman='Amanda', man='Adam')"
      ]
     },
     "execution_count": 30,
     "metadata": {},
     "output_type": "execute_result"
    }
   ],
   "source": [
    "from collections import namedtuple\n",
    "\n",
    "pair = namedtuple('pair', ['woman', 'man'])\n",
    "pair('Amanda', 'Adam')"
   ]
  },
  {
   "cell_type": "markdown",
   "metadata": {},
   "source": [
    "### Brute-Forcing It"
   ]
  },
  {
   "cell_type": "code",
   "execution_count": 23,
   "metadata": {},
   "outputs": [],
   "source": [
    "from itertools import permutations\n",
    "\n",
    "def stable_match_forced(\n",
    "        *, women, men, pref_rank_w, pref_rank_m\n",
    "):\n",
    "    '''\n",
    "    Solve stable matching problem using brute force\n",
    "\n",
    "    women: set[str] set of women\n",
    "    men: set[str] set of men\n",
    "    pref_rank_w: dict[str, dict[str, int]] preference rank\n",
    "    pref_rank_m: dict[str, dict[str, int]] preference rank\n",
    "    '''\n",
    "\n",
    "    w_rank = pref_to_rank(pref_rank_w)\n",
    "    m_rank = pref_to_rank(pref_rank_m)\n",
    "\n",
    "    w_seq = tuple(women)\n",
    "    matching = (\n",
    "        [\n",
    "            pair(w, m)\n",
    "            for w, m in zip(w_seq, m_seq)\n",
    "        ]\n",
    "        for m_seq in permutations(men)\n",
    "    )\n",
    "\n",
    "    for match in matching:\n",
    "        match_w = {pair.woman: pair for pair in match}\n",
    "        match_m = {pair.man: pair for pair in match}\n",
    "\n",
    "        unstable = any(\n",
    "            (\n",
    "                w_rank[w][m] < w_rank[w][match_w[w].man] and\n",
    "                m_rank[m][w] < m_rank[m][match_m[m].woman]\n",
    "            )\n",
    "            for w in women\n",
    "            for m in men\n",
    "            if w != match_m[m].woman\n",
    "            if m != match_w[w].man\n",
    "        )\n",
    "        if not unstable:\n",
    "            return match"
   ]
  },
  {
   "cell_type": "code",
   "execution_count": 24,
   "metadata": {},
   "outputs": [
    {
     "data": {
      "text/plain": [
       "[pair(woman='Diana', man='David'),\n",
       " pair(woman='Barbara', man='Bob'),\n",
       " pair(woman='Charlotte', man='Charlie'),\n",
       " pair(woman='Amanda', man='Adam')]"
      ]
     },
     "execution_count": 24,
     "metadata": {},
     "output_type": "execute_result"
    }
   ],
   "source": [
    "stable_match_forced(\n",
    "    women = {'Amanda', 'Barbara', 'Charlotte', 'Diana'},\n",
    "    men = {'Adam', 'Bob', 'Charlie', 'David'},\n",
    "    pref_rank_w = {\n",
    "        'Amanda': ['Adam', 'Bob', 'Charlie', 'David'],\n",
    "        'Barbara': ['Bob', 'David', 'Adam', 'Charlie'],\n",
    "        'Charlotte': ['Charlie', 'Bob', 'Adam', 'David'],\n",
    "        'Diana': ['David', 'Adam', 'Bob', 'Charlie'],\n",
    "    },\n",
    "    pref_rank_m = {\n",
    "        'Adam': ['Amanda', 'Barbara', 'Charlotte', 'Diana'],\n",
    "        'Bob': ['Amanda', 'Barbara', 'Charlotte', 'Diana'],\n",
    "        'Charlie': ['Amanda', 'Barbara', 'Charlotte', 'Diana'],\n",
    "        'David': ['Amanda', 'Barbara', 'Charlotte', 'Diana'],\n",
    "    }\n",
    ")"
   ]
  },
  {
   "cell_type": "code",
   "execution_count": 25,
   "metadata": {},
   "outputs": [
    {
     "name": "stdout",
     "output_type": "stream",
     "text": [
      "24.6 µs ± 197 ns per loop (mean ± std. dev. of 7 runs, 10,000 loops each)\n"
     ]
    }
   ],
   "source": [
    "%timeit stable_match_forced(women={'Amanda', 'Barbara', 'Charlotte', 'Diana'}, men={'Adam', 'Bob', 'Charlie', 'David'}, pref_rank_w=pref_rank_w, pref_rank_m=pref_rank_m)"
   ]
  },
  {
   "cell_type": "markdown",
   "metadata": {},
   "source": [
    "## Gale-Shapley"
   ]
  },
  {
   "cell_type": "code",
   "execution_count": 31,
   "metadata": {},
   "outputs": [],
   "source": [
    "from collections import deque\n",
    "\n",
    "def gale_shapley(*, A, B, A_pref, B_pref):\n",
    "    '''\n",
    "    Solve stable matching problem using Gale-Shapley algorithm\n",
    "\n",
    "    A: set[str] set of A\n",
    "    B: set[str] set of B\n",
    "    A_pref: dict[str, list[str]] preference list of A\n",
    "    B_pref: dict[str, list[str]] preference list of B\n",
    "    \n",
    "    return: dict[str, str] matching\n",
    "    '''\n",
    "\n",
    "    B_rank = pref_to_rank(B_pref)\n",
    "    ask_list = {a: deque(b_list) for a, b_list in A_pref.items()}\n",
    "    match = {}\n",
    "\n",
    "    a_rem = set(A)\n",
    "    while len(a_rem) > 0:\n",
    "        a = a_rem.pop()\n",
    "        b = ask_list[a].popleft()\n",
    "        if b not in match:\n",
    "            match[b] = a\n",
    "        else:\n",
    "            a_ = match[b]\n",
    "            b_pref_a_ = B_rank[b][a_] < B_rank[b][a]\n",
    "            if b_pref_a_:\n",
    "                a_rem.add(a)\n",
    "            else:\n",
    "                a_ = match[b] \n",
    "                b_pref_a_ = B_rank[b][a_] < B_rank[b][a]\n",
    "                if b_pref_a_:\n",
    "                    a_rem.add(a)\n",
    "                else:\n",
    "                    a_rem.add(a_)\n",
    "                    match[b] = a\n",
    "\n",
    "    return [(a, b) for b, a in match.items()]\n"
   ]
  },
  {
   "cell_type": "code",
   "execution_count": 32,
   "metadata": {},
   "outputs": [
    {
     "data": {
      "text/plain": [
       "[('Diana', 'David'),\n",
       " ('Barbara', 'Bob'),\n",
       " ('Charlotte', 'Charlie'),\n",
       " ('Amanda', 'Adam')]"
      ]
     },
     "execution_count": 32,
     "metadata": {},
     "output_type": "execute_result"
    }
   ],
   "source": [
    "gale_shapley(\n",
    "    A={'Amanda', 'Barbara', 'Charlotte', 'Diana'},\n",
    "    B={'Adam', 'Bob', 'Charlie', 'David'},\n",
    "    A_pref={\n",
    "        'Amanda': ['Adam', 'Bob', 'Charlie', 'David'],\n",
    "        'Barbara': ['Bob', 'David', 'Adam', 'Charlie'],\n",
    "        'Charlotte': ['Charlie', 'Bob', 'Adam', 'David'],\n",
    "        'Diana': ['David', 'Adam', 'Bob', 'Charlie'],\n",
    "    },\n",
    "    B_pref={\n",
    "        'Adam': ['Amanda', 'Barbara', 'Charlotte', 'Diana'],\n",
    "        'Bob': ['Amanda', 'Barbara', 'Charlotte', 'Diana'],\n",
    "        'Charlie': ['Amanda', 'Barbara', 'Charlotte', 'Diana'],\n",
    "        'David': ['Amanda', 'Barbara', 'Charlotte', 'Diana'],\n",
    "    }\n",
    ")"
   ]
  },
  {
   "cell_type": "code",
   "execution_count": 33,
   "metadata": {},
   "outputs": [
    {
     "name": "stdout",
     "output_type": "stream",
     "text": [
      "3.99 µs ± 23.9 ns per loop (mean ± std. dev. of 7 runs, 100,000 loops each)\n"
     ]
    }
   ],
   "source": [
    "%timeit gale_shapley(A={'Amanda', 'Barbara', 'Charlotte', 'Diana'}, B={'Adam', 'Bob', 'Charlie', 'David'}, A_pref=pref_dict_w, B_pref=pref_dict_m)"
   ]
  },
  {
   "cell_type": "markdown",
   "metadata": {},
   "source": [
    "## Validating Stability"
   ]
  },
  {
   "cell_type": "code",
   "execution_count": 34,
   "metadata": {},
   "outputs": [],
   "source": [
    "def validate_stability(match, pref_rank_w, pref_rank_m):\n",
    "    '''\n",
    "    Validate the stability of a matching\n",
    "\n",
    "    match: list of pairs representing the matching\n",
    "    pref_rank_w: dict[str, dict[str, int]] preference rank of women\n",
    "    pref_rank_m: dict[str, dict[str, int]] preference rank of men\n",
    "\n",
    "    return: bool indicating whether the matching is stable or not\n",
    "    '''\n",
    "\n",
    "    for pair in match:\n",
    "        woman, man = pair\n",
    "\n",
    "        # Check if there is a man that the woman prefers over her current match\n",
    "        for m in pref_rank_w[woman]:\n",
    "            if m == man:\n",
    "                break\n",
    "            if pref_rank_w[woman][m] < pref_rank_w[woman][man]:\n",
    "                # Check if the man prefers the woman over his current match\n",
    "                if pref_rank_m[man][woman] < pref_rank_m[man][match[man]]:\n",
    "                    return False\n",
    "\n",
    "    return True\n"
   ]
  },
  {
   "cell_type": "code",
   "execution_count": 37,
   "metadata": {},
   "outputs": [
    {
     "name": "stdout",
     "output_type": "stream",
     "text": [
      "True\n",
      "True\n"
     ]
    }
   ],
   "source": [
    "# check if the matching is stable\n",
    "match = gale_shapley(A={'Amanda', 'Barbara', 'Charlotte', 'Diana'}, B={'Adam', 'Bob', 'Charlie', 'David'}, A_pref=pref_dict_w, B_pref=pref_dict_m)\n",
    "match_bf = stable_match_forced(women={'Amanda', 'Barbara', 'Charlotte', 'Diana'}, men={'Adam', 'Bob', 'Charlie', 'David'}, pref_rank_w=pref_dict_w, pref_rank_m=pref_dict_m)\n",
    "print(validate_stability(match, pref_rank_w, pref_rank_m))\n",
    "print(validate_stability(match_bf, pref_rank_w, pref_rank_m))"
   ]
  },
  {
   "cell_type": "markdown",
   "metadata": {},
   "source": [
    "## Randomizing Pairs"
   ]
  },
  {
   "cell_type": "code",
   "execution_count": 41,
   "metadata": {},
   "outputs": [],
   "source": [
    "# Create a random list of women from input size\n",
    "import random\n",
    "import time\n",
    "import matplotlib.pyplot as plt\n",
    "\n",
    "def gen_prefs(n):\n",
    "    return [random.sample(range(n), n) for _ in range(n)]\n",
    "\n",
    "def gen_prefs_dict(n):\n",
    "    return {i: gen_prefs(n) for i in range(n)}"
   ]
  },
  {
   "cell_type": "code",
   "execution_count": null,
   "metadata": {},
   "outputs": [],
   "source": []
  }
 ],
 "metadata": {
  "kernelspec": {
   "display_name": "Python 3 (ipykernel)",
   "language": "python",
   "name": "python3"
  },
  "language_info": {
   "codemirror_mode": {
    "name": "ipython",
    "version": 3
   },
   "file_extension": ".py",
   "mimetype": "text/x-python",
   "name": "python",
   "nbconvert_exporter": "python",
   "pygments_lexer": "ipython3",
   "version": "3.10.11"
  }
 },
 "nbformat": 4,
 "nbformat_minor": 2
}
